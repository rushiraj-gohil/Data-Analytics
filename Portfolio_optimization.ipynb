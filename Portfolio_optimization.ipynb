{
  "nbformat": 4,
  "nbformat_minor": 0,
  "metadata": {
    "colab": {
      "name": "Portfolio_optimization.ipynb",
      "provenance": [],
      "collapsed_sections": [],
      "authorship_tag": "ABX9TyMKUpd1vaoEiQB+ilUKQMJS",
      "include_colab_link": true
    },
    "kernelspec": {
      "name": "python3",
      "display_name": "Python 3"
    }
  },
  "cells": [
    {
      "cell_type": "markdown",
      "metadata": {
        "id": "view-in-github",
        "colab_type": "text"
      },
      "source": [
        "<a href=\"https://colab.research.google.com/github/rushiraj-gohil/Data-Analytics/blob/master/Portfolio_optimization.ipynb\" target=\"_parent\"><img src=\"https://colab.research.google.com/assets/colab-badge.svg\" alt=\"Open In Colab\"/></a>"
      ]
    },
    {
      "cell_type": "code",
      "metadata": {
        "id": "usWMr5ptk8Gp",
        "colab_type": "code",
        "colab": {}
      },
      "source": [
        "#portfolio optimization"
      ],
      "execution_count": 99,
      "outputs": []
    },
    {
      "cell_type": "code",
      "metadata": {
        "id": "DjV9GMUVBr42",
        "colab_type": "code",
        "colab": {}
      },
      "source": [
        "from pandas_datareader import data as web\n",
        "import pandas as pd\n",
        "import numpy as np\n",
        "from datetime  import datetime\n",
        "import matplotlib.pyplot as plot"
      ],
      "execution_count": 100,
      "outputs": []
    },
    {
      "cell_type": "code",
      "metadata": {
        "id": "gPYiQShlCWag",
        "colab_type": "code",
        "colab": {}
      },
      "source": [
        "plot.style.use('classic')"
      ],
      "execution_count": 101,
      "outputs": []
    },
    {
      "cell_type": "code",
      "metadata": {
        "id": "oey02jAkCvPR",
        "colab_type": "code",
        "colab": {}
      },
      "source": [
        "syms = ['SBIN.NS', 'AXISBANK.BO', 'IOC.BO', 'NMDC.BO', 'KRITIIND.BO']"
      ],
      "execution_count": 102,
      "outputs": []
    },
    {
      "cell_type": "code",
      "metadata": {
        "id": "Rzn4OInSDGuY",
        "colab_type": "code",
        "colab": {}
      },
      "source": [
        "#assigning weights to the stocks\n",
        "weights = np.array([0.2,0.2,0.2,0.2,0.2])"
      ],
      "execution_count": 103,
      "outputs": []
    },
    {
      "cell_type": "code",
      "metadata": {
        "id": "TtN4clG0D11D",
        "colab_type": "code",
        "colab": {}
      },
      "source": [
        "#assigning the start date\n",
        "stockStartDate = '2016-07-02'"
      ],
      "execution_count": 104,
      "outputs": []
    },
    {
      "cell_type": "code",
      "metadata": {
        "id": "uBAQiHS-EHZo",
        "colab_type": "code",
        "colab": {}
      },
      "source": [
        "#ending date\n",
        "stockEndDate = '2019-01-01'"
      ],
      "execution_count": 105,
      "outputs": []
    },
    {
      "cell_type": "code",
      "metadata": {
        "id": "DrKylBpaEa-u",
        "colab_type": "code",
        "colab": {}
      },
      "source": [
        "df = pd.DataFrame()"
      ],
      "execution_count": 106,
      "outputs": []
    },
    {
      "cell_type": "code",
      "metadata": {
        "id": "q34FZw7oL7HY",
        "colab_type": "code",
        "colab": {}
      },
      "source": [
        "for stocks in syms:\n",
        "  df[stocks] = web.DataReader(stocks, data_source='yahoo' , start= stockStartDate, end= stockEndDate) ['Adj Close']"
      ],
      "execution_count": 107,
      "outputs": []
    },
    {
      "cell_type": "code",
      "metadata": {
        "id": "8rKqrRBsEpt8",
        "colab_type": "code",
        "colab": {
          "base_uri": "https://localhost:8080/",
          "height": 434
        },
        "outputId": "2e59ccf8-6924-4806-ec98-f40a8ca95278"
      },
      "source": [
        "#showing df\n",
        "df"
      ],
      "execution_count": 108,
      "outputs": [
        {
          "output_type": "execute_result",
          "data": {
            "text/html": [
              "<div>\n",
              "<style scoped>\n",
              "    .dataframe tbody tr th:only-of-type {\n",
              "        vertical-align: middle;\n",
              "    }\n",
              "\n",
              "    .dataframe tbody tr th {\n",
              "        vertical-align: top;\n",
              "    }\n",
              "\n",
              "    .dataframe thead th {\n",
              "        text-align: right;\n",
              "    }\n",
              "</style>\n",
              "<table border=\"1\" class=\"dataframe\">\n",
              "  <thead>\n",
              "    <tr style=\"text-align: right;\">\n",
              "      <th></th>\n",
              "      <th>SBIN.NS</th>\n",
              "      <th>AXISBANK.BO</th>\n",
              "      <th>IOC.BO</th>\n",
              "      <th>NMDC.BO</th>\n",
              "      <th>KRITIIND.BO</th>\n",
              "    </tr>\n",
              "    <tr>\n",
              "      <th>Date</th>\n",
              "      <th></th>\n",
              "      <th></th>\n",
              "      <th></th>\n",
              "      <th></th>\n",
              "      <th></th>\n",
              "    </tr>\n",
              "  </thead>\n",
              "  <tbody>\n",
              "    <tr>\n",
              "      <th>2016-07-04</th>\n",
              "      <td>221.001373</td>\n",
              "      <td>532.954468</td>\n",
              "      <td>86.017426</td>\n",
              "      <td>76.553299</td>\n",
              "      <td>26.071943</td>\n",
              "    </tr>\n",
              "    <tr>\n",
              "      <th>2016-07-05</th>\n",
              "      <td>221.496887</td>\n",
              "      <td>528.740967</td>\n",
              "      <td>85.631729</td>\n",
              "      <td>77.322891</td>\n",
              "      <td>26.465483</td>\n",
              "    </tr>\n",
              "    <tr>\n",
              "      <th>2016-07-07</th>\n",
              "      <td>218.077820</td>\n",
              "      <td>536.505005</td>\n",
              "      <td>84.967377</td>\n",
              "      <td>77.525406</td>\n",
              "      <td>27.104982</td>\n",
              "    </tr>\n",
              "    <tr>\n",
              "      <th>2016-07-08</th>\n",
              "      <td>216.343506</td>\n",
              "      <td>540.461121</td>\n",
              "      <td>84.069580</td>\n",
              "      <td>76.674820</td>\n",
              "      <td>25.186483</td>\n",
              "    </tr>\n",
              "    <tr>\n",
              "      <th>2016-07-11</th>\n",
              "      <td>222.686127</td>\n",
              "      <td>538.384094</td>\n",
              "      <td>85.766045</td>\n",
              "      <td>77.970955</td>\n",
              "      <td>26.367098</td>\n",
              "    </tr>\n",
              "    <tr>\n",
              "      <th>...</th>\n",
              "      <td>...</td>\n",
              "      <td>...</td>\n",
              "      <td>...</td>\n",
              "      <td>...</td>\n",
              "      <td>...</td>\n",
              "    </tr>\n",
              "    <tr>\n",
              "      <th>2018-12-27</th>\n",
              "      <td>292.149994</td>\n",
              "      <td>616.734131</td>\n",
              "      <td>125.562225</td>\n",
              "      <td>83.629471</td>\n",
              "      <td>32.872208</td>\n",
              "    </tr>\n",
              "    <tr>\n",
              "      <th>2018-12-28</th>\n",
              "      <td>294.799988</td>\n",
              "      <td>624.474548</td>\n",
              "      <td>128.934280</td>\n",
              "      <td>86.296570</td>\n",
              "      <td>33.219273</td>\n",
              "    </tr>\n",
              "    <tr>\n",
              "      <th>2018-12-31</th>\n",
              "      <td>295.899994</td>\n",
              "      <td>619.031250</td>\n",
              "      <td>128.419113</td>\n",
              "      <td>87.697929</td>\n",
              "      <td>32.773045</td>\n",
              "    </tr>\n",
              "    <tr>\n",
              "      <th>2019-01-01</th>\n",
              "      <td>299.600006</td>\n",
              "      <td>626.721741</td>\n",
              "      <td>128.934280</td>\n",
              "      <td>86.567802</td>\n",
              "      <td>32.425980</td>\n",
              "    </tr>\n",
              "    <tr>\n",
              "      <th>2019-01-02</th>\n",
              "      <td>293.899994</td>\n",
              "      <td>618.132446</td>\n",
              "      <td>128.512772</td>\n",
              "      <td>87.607521</td>\n",
              "      <td>31.533520</td>\n",
              "    </tr>\n",
              "  </tbody>\n",
              "</table>\n",
              "<p>618 rows × 5 columns</p>\n",
              "</div>"
            ],
            "text/plain": [
              "               SBIN.NS  AXISBANK.BO      IOC.BO    NMDC.BO  KRITIIND.BO\n",
              "Date                                                                   \n",
              "2016-07-04  221.001373   532.954468   86.017426  76.553299    26.071943\n",
              "2016-07-05  221.496887   528.740967   85.631729  77.322891    26.465483\n",
              "2016-07-07  218.077820   536.505005   84.967377  77.525406    27.104982\n",
              "2016-07-08  216.343506   540.461121   84.069580  76.674820    25.186483\n",
              "2016-07-11  222.686127   538.384094   85.766045  77.970955    26.367098\n",
              "...                ...          ...         ...        ...          ...\n",
              "2018-12-27  292.149994   616.734131  125.562225  83.629471    32.872208\n",
              "2018-12-28  294.799988   624.474548  128.934280  86.296570    33.219273\n",
              "2018-12-31  295.899994   619.031250  128.419113  87.697929    32.773045\n",
              "2019-01-01  299.600006   626.721741  128.934280  86.567802    32.425980\n",
              "2019-01-02  293.899994   618.132446  128.512772  87.607521    31.533520\n",
              "\n",
              "[618 rows x 5 columns]"
            ]
          },
          "metadata": {
            "tags": []
          },
          "execution_count": 108
        }
      ]
    },
    {
      "cell_type": "code",
      "metadata": {
        "id": "HJyroKTvPyFa",
        "colab_type": "code",
        "colab": {
          "base_uri": "https://localhost:8080/",
          "height": 475
        },
        "outputId": "4e0032e7-c8cc-4e8c-b3b6-ed996942ffba"
      },
      "source": [
        "#making graphical representation\n",
        "title = 'Portfolio Adj Close History'\n",
        "my_stocks = df\n",
        "for c in my_stocks.columns.values:\n",
        "  plot.plot(my_stocks[c] , label = c)\n",
        "\n",
        "  plot.title(title)\n",
        "  plot.xlabel('Date' , fontsize = 16)\n",
        "  plot.ylabel('Adj Price' , fontsize = 18)\n",
        "  plot.legend(my_stocks.columns.values, loc = 'upper right', fontsize = 10)\n",
        "\n"
      ],
      "execution_count": 109,
      "outputs": [
        {
          "output_type": "display_data",
          "data": {
            "image/png": "[encoded data removed]",
            "text/plain": [
              "<Figure size 640x480 with 1 Axes>"
            ]
          },
          "metadata": {
            "tags": []
          }
        }
      ]
    },
    {
      "cell_type": "code",
      "metadata": {
        "id": "KCGShCsuP7KU",
        "colab_type": "code",
        "colab": {
          "base_uri": "https://localhost:8080/",
          "height": 434
        },
        "outputId": "071d2ca5-8061-4bad-d171-6739bd483c92"
      },
      "source": [
        "#showing daily returns\n",
        "returns = df.pct_change()\n",
        "returns"
      ],
      "execution_count": 110,
      "outputs": [
        {
          "output_type": "execute_result",
          "data": {
            "text/html": [
              "<div>\n",
              "<style scoped>\n",
              "    .dataframe tbody tr th:only-of-type {\n",
              "        vertical-align: middle;\n",
              "    }\n",
              "\n",
              "    .dataframe tbody tr th {\n",
              "        vertical-align: top;\n",
              "    }\n",
              "\n",
              "    .dataframe thead th {\n",
              "        text-align: right;\n",
              "    }\n",
              "</style>\n",
              "<table border=\"1\" class=\"dataframe\">\n",
              "  <thead>\n",
              "    <tr style=\"text-align: right;\">\n",
              "      <th></th>\n",
              "      <th>SBIN.NS</th>\n",
              "      <th>AXISBANK.BO</th>\n",
              "      <th>IOC.BO</th>\n",
              "      <th>NMDC.BO</th>\n",
              "      <th>KRITIIND.BO</th>\n",
              "    </tr>\n",
              "    <tr>\n",
              "      <th>Date</th>\n",
              "      <th></th>\n",
              "      <th></th>\n",
              "      <th></th>\n",
              "      <th></th>\n",
              "      <th></th>\n",
              "    </tr>\n",
              "  </thead>\n",
              "  <tbody>\n",
              "    <tr>\n",
              "      <th>2016-07-04</th>\n",
              "      <td>NaN</td>\n",
              "      <td>NaN</td>\n",
              "      <td>NaN</td>\n",
              "      <td>NaN</td>\n",
              "      <td>NaN</td>\n",
              "    </tr>\n",
              "    <tr>\n",
              "      <th>2016-07-05</th>\n",
              "      <td>0.002242</td>\n",
              "      <td>-0.007906</td>\n",
              "      <td>-0.004484</td>\n",
              "      <td>0.010053</td>\n",
              "      <td>0.015094</td>\n",
              "    </tr>\n",
              "    <tr>\n",
              "      <th>2016-07-07</th>\n",
              "      <td>-0.015436</td>\n",
              "      <td>0.014684</td>\n",
              "      <td>-0.007758</td>\n",
              "      <td>0.002619</td>\n",
              "      <td>0.024164</td>\n",
              "    </tr>\n",
              "    <tr>\n",
              "      <th>2016-07-08</th>\n",
              "      <td>-0.007953</td>\n",
              "      <td>0.007374</td>\n",
              "      <td>-0.010566</td>\n",
              "      <td>-0.010972</td>\n",
              "      <td>-0.070780</td>\n",
              "    </tr>\n",
              "    <tr>\n",
              "      <th>2016-07-11</th>\n",
              "      <td>0.029317</td>\n",
              "      <td>-0.003843</td>\n",
              "      <td>0.020179</td>\n",
              "      <td>0.016904</td>\n",
              "      <td>0.046875</td>\n",
              "    </tr>\n",
              "    <tr>\n",
              "      <th>...</th>\n",
              "      <td>...</td>\n",
              "      <td>...</td>\n",
              "      <td>...</td>\n",
              "      <td>...</td>\n",
              "      <td>...</td>\n",
              "    </tr>\n",
              "    <tr>\n",
              "      <th>2018-12-27</th>\n",
              "      <td>-0.006799</td>\n",
              "      <td>0.001054</td>\n",
              "      <td>-0.004826</td>\n",
              "      <td>-0.022199</td>\n",
              "      <td>0.049051</td>\n",
              "    </tr>\n",
              "    <tr>\n",
              "      <th>2018-12-28</th>\n",
              "      <td>0.009071</td>\n",
              "      <td>0.012551</td>\n",
              "      <td>0.026856</td>\n",
              "      <td>0.031892</td>\n",
              "      <td>0.010558</td>\n",
              "    </tr>\n",
              "    <tr>\n",
              "      <th>2018-12-31</th>\n",
              "      <td>0.003731</td>\n",
              "      <td>-0.008717</td>\n",
              "      <td>-0.003996</td>\n",
              "      <td>0.016239</td>\n",
              "      <td>-0.013433</td>\n",
              "    </tr>\n",
              "    <tr>\n",
              "      <th>2019-01-01</th>\n",
              "      <td>0.012504</td>\n",
              "      <td>0.012423</td>\n",
              "      <td>0.004012</td>\n",
              "      <td>-0.012887</td>\n",
              "      <td>-0.010590</td>\n",
              "    </tr>\n",
              "    <tr>\n",
              "      <th>2019-01-02</th>\n",
              "      <td>-0.019025</td>\n",
              "      <td>-0.013705</td>\n",
              "      <td>-0.003269</td>\n",
              "      <td>0.012010</td>\n",
              "      <td>-0.027523</td>\n",
              "    </tr>\n",
              "  </tbody>\n",
              "</table>\n",
              "<p>618 rows × 5 columns</p>\n",
              "</div>"
            ],
            "text/plain": [
              "             SBIN.NS  AXISBANK.BO    IOC.BO   NMDC.BO  KRITIIND.BO\n",
              "Date                                                              \n",
              "2016-07-04       NaN          NaN       NaN       NaN          NaN\n",
              "2016-07-05  0.002242    -0.007906 -0.004484  0.010053     0.015094\n",
              "2016-07-07 -0.015436     0.014684 -0.007758  0.002619     0.024164\n",
              "2016-07-08 -0.007953     0.007374 -0.010566 -0.010972    -0.070780\n",
              "2016-07-11  0.029317    -0.003843  0.020179  0.016904     0.046875\n",
              "...              ...          ...       ...       ...          ...\n",
              "2018-12-27 -0.006799     0.001054 -0.004826 -0.022199     0.049051\n",
              "2018-12-28  0.009071     0.012551  0.026856  0.031892     0.010558\n",
              "2018-12-31  0.003731    -0.008717 -0.003996  0.016239    -0.013433\n",
              "2019-01-01  0.012504     0.012423  0.004012 -0.012887    -0.010590\n",
              "2019-01-02 -0.019025    -0.013705 -0.003269  0.012010    -0.027523\n",
              "\n",
              "[618 rows x 5 columns]"
            ]
          },
          "metadata": {
            "tags": []
          },
          "execution_count": 110
        }
      ]
    },
    {
      "cell_type": "code",
      "metadata": {
        "id": "AUSB6uznSMwj",
        "colab_type": "code",
        "colab": {
          "base_uri": "https://localhost:8080/",
          "height": 197
        },
        "outputId": "a57867ab-e9ad-45b2-def6-659127e68ba7"
      },
      "source": [
        "#creating annual covariance matrix\n",
        "cov_annual_matrix = returns.cov() * 252\n",
        "cov_annual_matrix"
      ],
      "execution_count": 111,
      "outputs": [
        {
          "output_type": "execute_result",
          "data": {
            "text/html": [
              "<div>\n",
              "<style scoped>\n",
              "    .dataframe tbody tr th:only-of-type {\n",
              "        vertical-align: middle;\n",
              "    }\n",
              "\n",
              "    .dataframe tbody tr th {\n",
              "        vertical-align: top;\n",
              "    }\n",
              "\n",
              "    .dataframe thead th {\n",
              "        text-align: right;\n",
              "    }\n",
              "</style>\n",
              "<table border=\"1\" class=\"dataframe\">\n",
              "  <thead>\n",
              "    <tr style=\"text-align: right;\">\n",
              "      <th></th>\n",
              "      <th>SBIN.NS</th>\n",
              "      <th>AXISBANK.BO</th>\n",
              "      <th>IOC.BO</th>\n",
              "      <th>NMDC.BO</th>\n",
              "      <th>KRITIIND.BO</th>\n",
              "    </tr>\n",
              "  </thead>\n",
              "  <tbody>\n",
              "    <tr>\n",
              "      <th>SBIN.NS</th>\n",
              "      <td>0.113107</td>\n",
              "      <td>0.039207</td>\n",
              "      <td>0.013759</td>\n",
              "      <td>0.031721</td>\n",
              "      <td>0.018241</td>\n",
              "    </tr>\n",
              "    <tr>\n",
              "      <th>AXISBANK.BO</th>\n",
              "      <td>0.039207</td>\n",
              "      <td>0.081490</td>\n",
              "      <td>0.013706</td>\n",
              "      <td>0.022117</td>\n",
              "      <td>0.010638</td>\n",
              "    </tr>\n",
              "    <tr>\n",
              "      <th>IOC.BO</th>\n",
              "      <td>0.013759</td>\n",
              "      <td>0.013706</td>\n",
              "      <td>0.604052</td>\n",
              "      <td>0.012789</td>\n",
              "      <td>-0.003664</td>\n",
              "    </tr>\n",
              "    <tr>\n",
              "      <th>NMDC.BO</th>\n",
              "      <td>0.031721</td>\n",
              "      <td>0.022117</td>\n",
              "      <td>0.012789</td>\n",
              "      <td>0.099040</td>\n",
              "      <td>0.034293</td>\n",
              "    </tr>\n",
              "    <tr>\n",
              "      <th>KRITIIND.BO</th>\n",
              "      <td>0.018241</td>\n",
              "      <td>0.010638</td>\n",
              "      <td>-0.003664</td>\n",
              "      <td>0.034293</td>\n",
              "      <td>0.283266</td>\n",
              "    </tr>\n",
              "  </tbody>\n",
              "</table>\n",
              "</div>"
            ],
            "text/plain": [
              "              SBIN.NS  AXISBANK.BO    IOC.BO   NMDC.BO  KRITIIND.BO\n",
              "SBIN.NS      0.113107     0.039207  0.013759  0.031721     0.018241\n",
              "AXISBANK.BO  0.039207     0.081490  0.013706  0.022117     0.010638\n",
              "IOC.BO       0.013759     0.013706  0.604052  0.012789    -0.003664\n",
              "NMDC.BO      0.031721     0.022117  0.012789  0.099040     0.034293\n",
              "KRITIIND.BO  0.018241     0.010638 -0.003664  0.034293     0.283266"
            ]
          },
          "metadata": {
            "tags": []
          },
          "execution_count": 111
        }
      ]
    },
    {
      "cell_type": "code",
      "metadata": {
        "id": "6xAQohE-S1ct",
        "colab_type": "code",
        "colab": {
          "base_uri": "https://localhost:8080/",
          "height": 34
        },
        "outputId": "fdad6f10-f033-464e-8adb-9a1f5e06e767"
      },
      "source": [
        "#calculating the portfolio variance\n",
        "port_var = np.dot( weights.T, np.dot(cov_annual_matrix , weights))\n",
        "port_var"
      ],
      "execution_count": 112,
      "outputs": [
        {
          "output_type": "execute_result",
          "data": {
            "text/plain": [
              "0.06266276889389306"
            ]
          },
          "metadata": {
            "tags": []
          },
          "execution_count": 112
        }
      ]
    },
    {
      "cell_type": "code",
      "metadata": {
        "id": "y2q2rdYyT1jd",
        "colab_type": "code",
        "colab": {
          "base_uri": "https://localhost:8080/",
          "height": 34
        },
        "outputId": "1a3dcd2f-848d-445e-dae3-c3beb5485371"
      },
      "source": [
        "#calculating volatility / standard deviation \n",
        "port_vol = np.sqrt(port_var)\n",
        "port_vol"
      ],
      "execution_count": 113,
      "outputs": [
        {
          "output_type": "execute_result",
          "data": {
            "text/plain": [
              "0.25032532611362573"
            ]
          },
          "metadata": {
            "tags": []
          },
          "execution_count": 113
        }
      ]
    },
    {
      "cell_type": "code",
      "metadata": {
        "id": "0yeB6ifPUSK7",
        "colab_type": "code",
        "colab": {
          "base_uri": "https://localhost:8080/",
          "height": 34
        },
        "outputId": "7d78ea66-91db-421e-956a-753d076a3ddd"
      },
      "source": [
        " #calculating annual portfolio return\n",
        "port_annual_return = np.sum(returns.mean() *weights) * 252\n",
        "port_annual_return  "
      ],
      "execution_count": 114,
      "outputs": [
        {
          "output_type": "execute_result",
          "data": {
            "text/plain": [
              "0.20224892202970807"
            ]
          },
          "metadata": {
            "tags": []
          },
          "execution_count": 114
        }
      ]
    },
    {
      "cell_type": "code",
      "metadata": {
        "id": "MNjcqXIlVKpt",
        "colab_type": "code",
        "colab": {
          "base_uri": "https://localhost:8080/",
          "height": 259
        },
        "outputId": "72e185ed-88c7-4d25-842f-bf3928e3c0ad"
      },
      "source": [
        "pip install PyPortfolioOpt"
      ],
      "execution_count": 115,
      "outputs": [
        {
          "output_type": "stream",
          "text": [
            "Requirement already satisfied: PyPortfolioOpt in /usr/local/lib/python3.6/dist-packages (1.2.4)\n",
            "Requirement already satisfied: numpy<2.0,>=1.12 in /usr/local/lib/python3.6/dist-packages (from PyPortfolioOpt) (1.18.5)\n",
            "Requirement already satisfied: cvxpy<1.1,>=1.0 in /usr/local/lib/python3.6/dist-packages (from PyPortfolioOpt) (1.0.31)\n",
            "Requirement already satisfied: pandas>=0.19 in /usr/local/lib/python3.6/dist-packages (from PyPortfolioOpt) (1.0.5)\n",
            "Requirement already satisfied: scipy<2.0,>=1.3 in /usr/local/lib/python3.6/dist-packages (from PyPortfolioOpt) (1.4.1)\n",
            "Requirement already satisfied: multiprocess in /usr/local/lib/python3.6/dist-packages (from cvxpy<1.1,>=1.0->PyPortfolioOpt) (0.70.10)\n",
            "Requirement already satisfied: scs>=1.1.3 in /usr/local/lib/python3.6/dist-packages (from cvxpy<1.1,>=1.0->PyPortfolioOpt) (2.1.2)\n",
            "Requirement already satisfied: osqp>=0.4.1 in /usr/local/lib/python3.6/dist-packages (from cvxpy<1.1,>=1.0->PyPortfolioOpt) (0.6.1)\n",
            "Requirement already satisfied: ecos>=2 in /usr/local/lib/python3.6/dist-packages (from cvxpy<1.1,>=1.0->PyPortfolioOpt) (2.0.7.post1)\n",
            "Requirement already satisfied: pytz>=2017.2 in /usr/local/lib/python3.6/dist-packages (from pandas>=0.19->PyPortfolioOpt) (2018.9)\n",
            "Requirement already satisfied: python-dateutil>=2.6.1 in /usr/local/lib/python3.6/dist-packages (from pandas>=0.19->PyPortfolioOpt) (2.8.1)\n",
            "Requirement already satisfied: dill>=0.3.2 in /usr/local/lib/python3.6/dist-packages (from multiprocess->cvxpy<1.1,>=1.0->PyPortfolioOpt) (0.3.2)\n",
            "Requirement already satisfied: future in /usr/local/lib/python3.6/dist-packages (from osqp>=0.4.1->cvxpy<1.1,>=1.0->PyPortfolioOpt) (0.16.0)\n",
            "Requirement already satisfied: six>=1.5 in /usr/local/lib/python3.6/dist-packages (from python-dateutil>=2.6.1->pandas>=0.19->PyPortfolioOpt) (1.12.0)\n"
          ],
          "name": "stdout"
        }
      ]
    },
    {
      "cell_type": "code",
      "metadata": {
        "id": "9wnpYOw7W5SZ",
        "colab_type": "code",
        "colab": {}
      },
      "source": [
        "from pypfopt.efficient_frontier import EfficientFrontier\n",
        "from pypfopt import risk_models\n",
        "from pypfopt import expected_returns"
      ],
      "execution_count": 116,
      "outputs": []
    },
    {
      "cell_type": "code",
      "metadata": {
        "id": "eKEfGJIYYYYc",
        "colab_type": "code",
        "colab": {}
      },
      "source": [
        "#portfolio optimization begins here\n",
        "#calculating expected returns and annual covariance matrix of asset returns\n",
        "mean = expected_returns.mean_historical_return(df)\n",
        "S = risk_models.sample_cov(df)"
      ],
      "execution_count": 117,
      "outputs": []
    },
    {
      "cell_type": "code",
      "metadata": {
        "id": "M_FSiFoMbv8v",
        "colab_type": "code",
        "colab": {
          "base_uri": "https://localhost:8080/",
          "height": 103
        },
        "outputId": "41f38419-28c8-4dbb-cc41-5390eb04e26b"
      },
      "source": [
        "#optimising for maximum sharpe ratio\n",
        "ef = EfficientFrontier(mean , S)\n",
        "weights = ef.max_sharpe()\n",
        "cleaned_weights = ef.clean_weights()\n",
        "print(cleaned_weights)\n",
        "ef.portfolio_performance(verbose = True)"
      ],
      "execution_count": 118,
      "outputs": [
        {
          "output_type": "stream",
          "text": [
            "OrderedDict([('SBIN.NS', 0.37345), ('AXISBANK.BO', 0.10277), ('IOC.BO', 0.23275), ('NMDC.BO', 0.06551), ('KRITIIND.BO', 0.22552)])\n",
            "Expected annual return: 22.7%\n",
            "Annual volatility: 27.7%\n",
            "Sharpe Ratio: 0.75\n"
          ],
          "name": "stdout"
        },
        {
          "output_type": "execute_result",
          "data": {
            "text/plain": [
              "(0.22711726246623315, 0.276911864200801, 0.7479537327300766)"
            ]
          },
          "metadata": {
            "tags": []
          },
          "execution_count": 118
        }
      ]
    },
    {
      "cell_type": "code",
      "metadata": {
        "id": "p644Szwvc0h6",
        "colab_type": "code",
        "colab": {}
      },
      "source": [
        ""
      ],
      "execution_count": 118,
      "outputs": []
    }
  ]
}